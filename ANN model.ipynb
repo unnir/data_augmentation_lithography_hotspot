{
 "cells": [
  {
   "cell_type": "code",
   "execution_count": 1,
   "metadata": {},
   "outputs": [],
   "source": [
    "from __future__ import print_function\n",
    "import argparse\n",
    "import torch\n",
    "import torch.nn as nn\n",
    "import torch.nn.functional as F\n",
    "import torch.optim as optim\n",
    "from torchvision import datasets, transforms\n",
    "from torchsummary import summary\n"
   ]
  },
  {
   "cell_type": "code",
   "execution_count": 2,
   "metadata": {},
   "outputs": [
    {
     "data": {
      "text/plain": [
       "device(type='cuda')"
      ]
     },
     "execution_count": 2,
     "metadata": {},
     "output_type": "execute_result"
    }
   ],
   "source": [
    "device = torch.device(\"cuda\" if True else \"cpu\")\n",
    "device"
   ]
  },
  {
   "cell_type": "code",
   "execution_count": 3,
   "metadata": {},
   "outputs": [],
   "source": [
    "class Net(nn.Module):\n",
    "    def __init__(self):\n",
    "        super(Net, self).__init__()\n",
    "        self.conv1 = nn.Conv2d(1, 16, kernel_size=3)\n",
    "        self.conv2 = nn.Conv2d(16, 24, kernel_size=3)\n",
    "        self.conv3 = nn.Conv2d(24, 36, kernel_size=3)\n",
    "        \n",
    "        self.pool = nn.MaxPool2d(4, stride=3)\n",
    "        self.activation = nn.ReLU()\n",
    "        \n",
    "        self.fc1 = nn.Linear(9216, 20)\n",
    "        self.fc2 = nn.Linear(20,1)\n",
    "\n",
    "    def forward(self, x):\n",
    "        \n",
    "        x = self.activation( self.pool(self.conv1(x)) )\n",
    "        x = self.activation( self.pool(self.conv2(x)) )\n",
    "        x = self.activation( self.pool(self.conv3(x)) )\n",
    "        x = x.view(x.size(0), -1)\n",
    "\n",
    "        x = self.activation(self.fc1(x)) \n",
    "        x = self.fc2(x)\n",
    "        return F.sigmoid(x)\n",
    "\n",
    "model = Net().to(device)"
   ]
  },
  {
   "cell_type": "code",
   "execution_count": 4,
   "metadata": {},
   "outputs": [
    {
     "name": "stdout",
     "output_type": "stream",
     "text": [
      "----------------------------------------------------------------\n",
      "        Layer (type)               Output Shape         Param #\n",
      "================================================================\n",
      "            Conv2d-1         [-1, 16, 478, 478]             160\n",
      "         MaxPool2d-2         [-1, 16, 159, 159]               0\n",
      "              ReLU-3         [-1, 16, 159, 159]               0\n",
      "            Conv2d-4         [-1, 24, 157, 157]           3,480\n",
      "         MaxPool2d-5           [-1, 24, 52, 52]               0\n",
      "              ReLU-6           [-1, 24, 52, 52]               0\n",
      "            Conv2d-7           [-1, 36, 50, 50]           7,812\n",
      "         MaxPool2d-8           [-1, 36, 16, 16]               0\n",
      "              ReLU-9           [-1, 36, 16, 16]               0\n",
      "           Linear-10                   [-1, 20]         184,340\n",
      "             ReLU-11                   [-1, 20]               0\n",
      "           Linear-12                    [-1, 1]              21\n",
      "================================================================\n",
      "Total params: 195,813\n",
      "Trainable params: 195,813\n",
      "Non-trainable params: 0\n",
      "----------------------------------------------------------------\n"
     ]
    }
   ],
   "source": [
    "summary(model, (1, 480, 480))\n"
   ]
  },
  {
   "cell_type": "code",
   "execution_count": null,
   "metadata": {},
   "outputs": [],
   "source": []
  }
 ],
 "metadata": {
  "kernelspec": {
   "display_name": "Python 3",
   "language": "python",
   "name": "python3"
  },
  "language_info": {
   "codemirror_mode": {
    "name": "ipython",
    "version": 3
   },
   "file_extension": ".py",
   "mimetype": "text/x-python",
   "name": "python",
   "nbconvert_exporter": "python",
   "pygments_lexer": "ipython3",
   "version": "3.6.5"
  }
 },
 "nbformat": 4,
 "nbformat_minor": 2
}
